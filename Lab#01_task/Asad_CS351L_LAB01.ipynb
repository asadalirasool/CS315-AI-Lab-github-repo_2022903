{
  "nbformat": 4,
  "nbformat_minor": 0,
  "metadata": {
    "colab": {
      "provenance": []
    },
    "kernelspec": {
      "name": "python3",
      "display_name": "Python 3"
    },
    "language_info": {
      "name": "python"
    }
  },
  "cells": [
    {
      "cell_type": "markdown",
      "source": [
        "##1. Breadth-First Search (BFS) Approach\n",
        "\n",
        "In BFS, we explore all the possible guesses at each depth level before going deeper. Since BFS is usually used for tree or graph traversal, it doesn’t fit exactly with binary search’s divide-and-conquer. However, we can still conceptualize BFS as a level-wise search through the range of numbers.\n",
        "\n",
        "##Explanation of BFS:\n",
        "Breadth-First Search explores all guesses at the current depth (range) before it moves to deeper levels.\n",
        "In this case, we start by guessing the midpoint of the current range and then explore both possibilities (higher or lower bounds) using a queue.\n",
        "This isn't the most optimal way for a number guessing game since BFS tends to consume more memory due to the queue. However, it illustrates the concept of level-by-level exploration."
      ],
      "metadata": {
        "id": "zZFC5I2vVHQ9"
      }
    },
    {
      "cell_type": "code",
      "source": [
        "from collections import deque\n",
        "\n",
        "def ai_bfs_guessing_game():\n",
        "    print(\"Think of a number between 1 and 100, and I (the AI) will try to guess it.\")\n",
        "    low = 1\n",
        "    high = 100\n",
        "    queue = deque([(low, high)])  # Store the current bounds (low, high) in the queue\n",
        "    attempts = 0\n",
        "\n",
        "    while queue:\n",
        "        low, high = queue.popleft()  # BFS retrieves from the front of the queue\n",
        "        if low > high:\n",
        "            continue\n",
        "\n",
        "        guess = (low + high) // 2\n",
        "        attempts += 1\n",
        "        print(f\"AI's guess is: {guess}\")\n",
        "        feedback = input(\"Enter 'h' if too high, 'l' if too low, or 'c' if correct: \").lower()\n",
        "\n",
        "        if feedback == 'c':\n",
        "            print(f\"I (AI) guessed the number in {attempts} attempts!\")\n",
        "            return\n",
        "        elif feedback == 'h':\n",
        "            queue.append((low, guess - 1))  # Add new search range with reduced upper bound\n",
        "        elif feedback == 'l':\n",
        "            queue.append((guess + 1, high))  # Add new search range with increased lower bound\n",
        "\n",
        "    print(\"Something went wrong!\")\n",
        "\n",
        "# Run the BFS version\n",
        "ai_bfs_guessing_game()\n"
      ],
      "metadata": {
        "colab": {
          "base_uri": "https://localhost:8080/"
        },
        "id": "DqJ03ZeRV7ou",
        "outputId": "edf1d8de-379b-4d54-e88a-89b00a7ba3e5"
      },
      "execution_count": 1,
      "outputs": [
        {
          "output_type": "stream",
          "name": "stdout",
          "text": [
            "Think of a number between 1 and 100, and I (the AI) will try to guess it.\n",
            "AI's guess is: 50\n",
            "Enter 'h' if too high, 'l' if too low, or 'c' if correct: h\n",
            "AI's guess is: 25\n",
            "Enter 'h' if too high, 'l' if too low, or 'c' if correct: h\n",
            "AI's guess is: 12\n",
            "Enter 'h' if too high, 'l' if too low, or 'c' if correct: h\n",
            "AI's guess is: 6\n",
            "Enter 'h' if too high, 'l' if too low, or 'c' if correct: l\n",
            "AI's guess is: 9\n",
            "Enter 'h' if too high, 'l' if too low, or 'c' if correct: c\n",
            "I (AI) guessed the number in 5 attempts!\n"
          ]
        }
      ]
    },
    {
      "cell_type": "markdown",
      "source": [
        "##Depth-First Search (DFS) Approach:\n",
        "In DFS, we go as deep as possible before backtracking. This approach is also not directly suited for a number-guessing game (since binary search is already optimal), but we can simulate it by recursively narrowing down the search range.\n",
        "\n",
        "##Explanation of DFS:\n",
        "Depth-First Search explores the current path as deeply as possible (here, narrowing down by always guessing midpoints) before backtracking.\n",
        "Each recursive call represents diving deeper into the problem. DFS doesn’t require extra space for a queue, but in this case, it also mimics the behavior of binary search.\n",
        "It uses recursion to simulate the search process."
      ],
      "metadata": {
        "id": "iwEFr9Z3WmiK"
      }
    },
    {
      "cell_type": "code",
      "source": [
        "def ai_dfs_guessing_game(low=1, high=100, attempts=0):\n",
        "    if low > high:\n",
        "        print(\"Something went wrong!\")\n",
        "        return\n",
        "\n",
        "    guess = (low + high) // 2\n",
        "    attempts += 1\n",
        "    print(f\"AI's guess is: {guess}\")\n",
        "    feedback = input(\"Enter 'h' if too high, 'l' if too low, or 'c' if correct: \").lower()\n",
        "\n",
        "    if feedback == 'c':\n",
        "        print(f\"I (AI) guessed the number in {attempts} attempts!\")\n",
        "        return\n",
        "    elif feedback == 'h':\n",
        "        ai_dfs_guessing_game(low, guess - 1, attempts)  # Recur on the lower half\n",
        "    elif feedback == 'l':\n",
        "        ai_dfs_guessing_game(guess + 1, high, attempts)  # Recur on the upper half\n",
        "\n",
        "# Run the DFS version\n",
        "ai_dfs_guessing_game()\n"
      ],
      "metadata": {
        "colab": {
          "base_uri": "https://localhost:8080/"
        },
        "id": "DduaWWmfW1Dz",
        "outputId": "bccfe6ce-70e5-41d8-a510-70a2414056cc"
      },
      "execution_count": 2,
      "outputs": [
        {
          "output_type": "stream",
          "name": "stdout",
          "text": [
            "AI's guess is: 50\n",
            "Enter 'h' if too high, 'l' if too low, or 'c' if correct: h\n",
            "AI's guess is: 25\n",
            "Enter 'h' if too high, 'l' if too low, or 'c' if correct: h\n",
            "AI's guess is: 12\n",
            "Enter 'h' if too high, 'l' if too low, or 'c' if correct: l\n",
            "AI's guess is: 18\n",
            "Enter 'h' if too high, 'l' if too low, or 'c' if correct: c\n",
            "I (AI) guessed the number in 4 attempts!\n"
          ]
        }
      ]
    },
    {
      "cell_type": "markdown",
      "source": [
        "##Simulated Annealing Approach:\n",
        "\n",
        "Simulated Annealing is an optimization algorithm based on the annealing process in metallurgy. It involves slowly \"cooling\" the search process by allowing for randomness in exploration (allowing bad moves at the start, but gradually reducing them). In a number-guessing game, this can be interpreted as starting with random guesses and gradually refining towards the correct answer.\n",
        "\n",
        "##Explanation of Simulated Annealing:\n",
        "Simulated Annealing allows some randomness in the initial phase (like random guesses) but gradually reduces this randomness as the \"temperature\" decreases.\n",
        "The idea is to explore more randomly at the beginning and then settle towards the solution. The cooling schedule (how fast the temperature drops) affects the algorithm’s performance.\n",
        "It might not be as efficient as binary search but demonstrates a more exploratory approach to the guessing game."
      ],
      "metadata": {
        "id": "xRD7TPslXL6j"
      }
    },
    {
      "cell_type": "code",
      "source": [
        "import random\n",
        "import math\n",
        "\n",
        "def ai_annealing_guessing_game():\n",
        "    print(\"Think of a number between 1 and 100, and I (the AI) will try to guess it.\")\n",
        "    low = 1\n",
        "    high = 100\n",
        "    attempts = 0\n",
        "\n",
        "    # Start with a random guess\n",
        "    current_guess = random.randint(low, high)\n",
        "    temperature = 100  # Initial \"temperature\" (high randomness)\n",
        "\n",
        "    while temperature > 1:\n",
        "        print(f\"AI's guess is: {current_guess}\")\n",
        "        feedback = input(\"Enter 'h' if too high, 'l' if too low, or 'c' if correct: \").lower()\n",
        "\n",
        "        if feedback == 'c':\n",
        "            print(f\"I (AI) guessed the number in {attempts} attempts!\")\n",
        "            return\n",
        "\n",
        "        attempts += 1\n",
        "        temperature -= 10  # Gradually reduce the randomness\n",
        "\n",
        "        # Annealing: allow a new random guess but gradually narrow it down\n",
        "        if feedback == 'h':\n",
        "            high = current_guess - 1\n",
        "        elif feedback == 'l':\n",
        "            low = current_guess + 1\n",
        "\n",
        "        # New guess based on current bounds, with random variation reduced by temperature\n",
        "        current_guess = random.randint(low, high)\n",
        "        current_guess = min(max(low, current_guess), high)\n",
        "\n",
        "    print(\"Something went wrong!\")\n",
        "\n",
        "# Run the Simulated Annealing version\n",
        "ai_annealing_guessing_game()\n"
      ],
      "metadata": {
        "colab": {
          "base_uri": "https://localhost:8080/"
        },
        "id": "3jiUr4hqXZXu",
        "outputId": "a073e646-d25d-4445-bf1a-30cc952c0473"
      },
      "execution_count": 3,
      "outputs": [
        {
          "output_type": "stream",
          "name": "stdout",
          "text": [
            "Think of a number between 1 and 100, and I (the AI) will try to guess it.\n",
            "AI's guess is: 42\n",
            "Enter 'h' if too high, 'l' if too low, or 'c' if correct: h\n",
            "AI's guess is: 17\n",
            "Enter 'h' if too high, 'l' if too low, or 'c' if correct: h\n",
            "AI's guess is: 1\n",
            "Enter 'h' if too high, 'l' if too low, or 'c' if correct: l\n",
            "AI's guess is: 13\n",
            "Enter 'h' if too high, 'l' if too low, or 'c' if correct: l\n",
            "AI's guess is: 14\n",
            "Enter 'h' if too high, 'l' if too low, or 'c' if correct: l\n",
            "AI's guess is: 15\n",
            "Enter 'h' if too high, 'l' if too low, or 'c' if correct: c\n",
            "I (AI) guessed the number in 5 attempts!\n"
          ]
        }
      ]
    }
  ]
}